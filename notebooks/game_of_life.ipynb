{
 "cells": [
  {
   "cell_type": "code",
   "execution_count": 1,
   "id": "e32d3c15-1ee4-4a6a-bdcd-ecb9fe609da9",
   "metadata": {},
   "outputs": [],
   "source": [
    "import matplotlib.pyplot as plt\n",
    "from matplotlib import colors\n",
    "\n",
    "import numpy as np\n",
    "from gol.core.game import Grid"
   ]
  },
  {
   "cell_type": "markdown",
   "id": "16d5eb9c-898a-414f-8196-f172b169fd0f",
   "metadata": {},
   "source": [
    "https://en.wikipedia.org/wiki/Conway%27s_Game_of_Life"
   ]
  },
  {
   "cell_type": "code",
   "execution_count": 2,
   "id": "805904c6-a70e-4050-8330-324b6af6989c",
   "metadata": {},
   "outputs": [
    {
     "data": {
      "image/png": "[encoded data removed]",
      "text/plain": [
       "<Figure size 1400x400 with 10 Axes>"
      ]
     },
     "metadata": {},
     "output_type": "display_data"
    }
   ],
   "source": [
    "def show_grid(grid: Grid, ax):\n",
    "    cmap = colors.ListedColormap(['white', 'black'])\n",
    "    bounds=[0,.5,1]\n",
    "    norm = colors.BoundaryNorm(bounds, cmap.N)\n",
    "    ax.tick_params(axis='both', left=False, top=False, right=False, bottom=False, labelleft=False, labeltop=False, labelright=False, labelbottom=False)\n",
    "    # tell imshow about color map so that only set colors are used\n",
    "    ax.imshow(grid, interpolation='nearest', origin='lower', cmap=cmap, norm=norm)\n",
    "    \n",
    "\n",
    "fix, axes = plt.subplots(2,5,figsize=(14,4))\n",
    "axes = axes.flatten()\n",
    "grid = Grid(nrow=5, ncol=10)\n",
    "grid.seed(10)\n",
    "show_grid(grid.grid, axes[0])\n",
    "for i in range(1,10):\n",
    "    grid.update()\n",
    "    show_grid(grid.grid, axes[i])\n",
    "    \n",
    "# get_state_change(grid.cells[0])\n",
    "# print(np.sum(grid.grid))"
   ]
  },
  {
   "cell_type": "code",
   "execution_count": 7,
   "id": "b19e437e-ccbe-4827-9f19-bb991e9757f9",
   "metadata": {},
   "outputs": [
    {
     "data": {
      "text/plain": [
       "[(0, dead),\n",
       " (1, dead),\n",
       " (2, None),\n",
       " (3, None),\n",
       " (4, None),\n",
       " (5, dead),\n",
       " (6, dead),\n",
       " (7, dead)]"
      ]
     },
     "execution_count": 7,
     "metadata": {},
     "output_type": "execute_result"
    }
   ],
   "source": [
    "import gol.core.game as game\n",
    "\n",
    "[(nb, game.State.dead if (nb < 2 or nb > 4) else None) for nb in range(8)]"
   ]
  },
  {
   "cell_type": "code",
   "execution_count": null,
   "id": "a6bf139a-4b88-42ef-ab7b-c0b61e4ffd26",
   "metadata": {},
   "outputs": [],
   "source": []
  }
 ],
 "metadata": {
  "kernelspec": {
   "display_name": "Python 3 (ipykernel)",
   "language": "python",
   "name": "python3"
  },
  "language_info": {
   "codemirror_mode": {
    "name": "ipython",
    "version": 3
   },
   "file_extension": ".py",
   "mimetype": "text/x-python",
   "name": "python",
   "nbconvert_exporter": "python",
   "pygments_lexer": "ipython3",
   "version": "3.11.0"
  }
 },
 "nbformat": 4,
 "nbformat_minor": 5
}
