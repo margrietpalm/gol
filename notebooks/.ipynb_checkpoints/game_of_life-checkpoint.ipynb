{
 "cells": [
  {
   "cell_type": "code",
   "execution_count": 1,
   "id": "e32d3c15-1ee4-4a6a-bdcd-ecb9fe609da9",
   "metadata": {},
   "outputs": [
    {
     "ename": "ModuleNotFoundError",
     "evalue": "No module named 'matplotlib'",
     "output_type": "error",
     "traceback": [
      "\u001b[0;31m---------------------------------------------------------------------------\u001b[0m",
      "\u001b[0;31mModuleNotFoundError\u001b[0m                       Traceback (most recent call last)",
      "Cell \u001b[0;32mIn[1], line 1\u001b[0m\n\u001b[0;32m----> 1\u001b[0m \u001b[38;5;28;01mimport\u001b[39;00m \u001b[38;5;21;01mmatplotlib\u001b[39;00m\u001b[38;5;21;01m.\u001b[39;00m\u001b[38;5;21;01mpyplot\u001b[39;00m \u001b[38;5;28;01mas\u001b[39;00m \u001b[38;5;21;01mplt\u001b[39;00m\n\u001b[1;32m      2\u001b[0m \u001b[38;5;28;01mfrom\u001b[39;00m \u001b[38;5;21;01mmatplotlib\u001b[39;00m \u001b[38;5;28;01mimport\u001b[39;00m colors\n\u001b[1;32m      4\u001b[0m \u001b[38;5;28;01mimport\u001b[39;00m \u001b[38;5;21;01mnumpy\u001b[39;00m \u001b[38;5;28;01mas\u001b[39;00m \u001b[38;5;21;01mnp\u001b[39;00m\n",
      "\u001b[0;31mModuleNotFoundError\u001b[0m: No module named 'matplotlib'"
     ]
    }
   ],
   "source": [
    "import matplotlib.pyplot as plt\n",
    "from matplotlib import colors\n",
    "\n",
    "import numpy as np\n",
    "\n"
   ]
  },
  {
   "cell_type": "markdown",
   "id": "16d5eb9c-898a-414f-8196-f172b169fd0f",
   "metadata": {},
   "source": [
    "https://en.wikipedia.org/wiki/Conway%27s_Game_of_Life"
   ]
  },
  {
   "cell_type": "code",
   "execution_count": 35,
   "id": "ba682c83-a9ac-46cd-8e91-3d906c571208",
   "metadata": {},
   "outputs": [],
   "source": [
    "import itertools\n",
    "\n",
    "def get_neighbors_1dim(x, xmax):\n",
    "    neighbors = [x]\n",
    "    if x > 0:\n",
    "        neighbors.insert(0, x-1)\n",
    "    if x < xmax-1:\n",
    "        neighbors.append(x+1)\n",
    "    return neighbors\n",
    "\n",
    "def get_neighbors(pos, nrow, ncol):\n",
    "    nb_x = get_neighbors_1dim(pos[0],nrow)\n",
    "    nb_y = get_neighbors_1dim(pos[1],ncol)\n",
    "    nb_list = list(itertools.product(nb_x, nb_y))\n",
    "    nb_list.remove(pos)\n",
    "    return [i*ncol+ j for (i,j) in nb_list]\n",
    "\n",
    "\n"
   ]
  },
  {
   "cell_type": "code",
   "execution_count": 46,
   "id": "805904c6-a70e-4050-8330-324b6af6989c",
   "metadata": {},
   "outputs": [
    {
     "data": {
      "image/png": "[encoded data removed]",
      "text/plain": [
       "<Figure size 640x480 with 1 Axes>"
      ]
     },
     "metadata": {},
     "output_type": "display_data"
    }
   ],
   "source": [
    "from typing import List, Tuple\n",
    "from enum import IntEnum\n",
    "\n",
    "class State(IntEnum):\n",
    "    alive = 1\n",
    "    dead = 0\n",
    "    \n",
    "    def __repr__(self):\n",
    "        return self.name\n",
    "\n",
    "class Cell:\n",
    "    def __init__(self, state: State, row: int, col: int):\n",
    "        self.state = state\n",
    "        self.row = row\n",
    "        self.col = col\n",
    "        self.neighbors = []\n",
    "\n",
    "    def set_neighbors(self, neighbors: List[Cell]):\n",
    "        self.neighbors = neighbors\n",
    "            \n",
    "    def __int__(self) -> int:\n",
    "        return int(self.state)\n",
    "\n",
    "    \n",
    "def get_state_change(cell):\n",
    "    print((cell.row, cell.col, len(cell.neighbors)))\n",
    "    nb_alive = np.sum(np.array([nb.state for nb in cell.neighbors], dtype=int))\n",
    "    if cell.state == State.alive and (nb_alive < 2 or nb_alive > 4):\n",
    "        return State.dead\n",
    "    elif cell.state == State.dead and nb_alive == 3:\n",
    "        return State.alive\n",
    "\n",
    "class Grid:\n",
    "    def __init__(self, nrow, ncol):\n",
    "        self.nrow = nrow\n",
    "        self.ncol = ncol\n",
    "        self.cells = {i*ncol+j : Cell(State.dead, row=i, col=j) for i in range(nrow) for j in range(ncol)}\n",
    "        self._setup_neighbors()\n",
    "    \n",
    "    @property\n",
    "    def grid(self):\n",
    "        return np.array([[self.cells[i*self.ncol+j] for j in range(self.ncol)] for i in range(self.nrow)], dtype=int)\n",
    "    \n",
    "    def _setup_neighbors(self):     \n",
    "        for cell in self.cells.values():\n",
    "            nb = [self.cells[nb_idx] for nb_idx in get_neighbors((cell.row, cell.col), self.nrow, self.ncol)]\n",
    "            cell.set_neighbors(nb)\n",
    "    \n",
    "    def seed(self, n: int):\n",
    "        alive_idx = np.random.choice(self.nrow*self.ncol, size=n, replace=False)\n",
    "        for idx in alive_idx:\n",
    "            self.cells[idx].state = State.alive\n",
    "            \n",
    "    def update(self):\n",
    "        # updating is synced: first check and then update\n",
    "        new_states = {idx : new_state for idx, cell in self.cells.items() if (new_state := get_state_change(cell)) is not None}\n",
    "        \n",
    "        for idx, new_state in new_states.items():\n",
    "            self.cells[idx].state = new_state\n",
    "\n",
    "def show_grid(grid: Grid):\n",
    "    cmap = colors.ListedColormap(['white', 'black'])\n",
    "    bounds=[0,.5,1]\n",
    "    norm = colors.BoundaryNorm(bounds, cmap.N)\n",
    "\n",
    "    # tell imshow about color map so that only set colors are used\n",
    "    plt.imshow(grid, interpolation='nearest', origin='lower', cmap=cmap, norm=norm)\n",
    "    \n",
    "\n",
    "grid = Grid(nrow=5, ncol=10)\n",
    "grid.seed(10)\n",
    "show_grid(grid.grid)\n",
    "# get_state_change(grid.cells[0])\n",
    "# print(np.sum(grid.grid))"
   ]
  },
  {
   "cell_type": "code",
   "execution_count": 47,
   "id": "cff860ae-bc8c-43ef-913b-83a7b0310649",
   "metadata": {},
   "outputs": [
    {
     "name": "stdout",
     "output_type": "stream",
     "text": [
      "(0, 0, 3)\n",
      "(0, 1, 5)\n",
      "(0, 2, 5)\n",
      "(0, 3, 5)\n",
      "(0, 4, 5)\n",
      "(0, 5, 5)\n",
      "(0, 6, 5)\n",
      "(0, 7, 5)\n",
      "(0, 8, 5)\n",
      "(0, 9, 3)\n",
      "(1, 0, 5)\n",
      "(1, 1, 8)\n",
      "(1, 2, 8)\n",
      "(1, 3, 8)\n",
      "(1, 4, 8)\n",
      "(1, 5, 8)\n",
      "(1, 6, 8)\n",
      "(1, 7, 8)\n",
      "(1, 8, 8)\n",
      "(1, 9, 5)\n",
      "(2, 0, 5)\n",
      "(2, 1, 8)\n",
      "(2, 2, 8)\n",
      "(2, 3, 8)\n",
      "(2, 4, 8)\n",
      "(2, 5, 8)\n",
      "(2, 6, 8)\n",
      "(2, 7, 8)\n",
      "(2, 8, 8)\n",
      "(2, 9, 5)\n",
      "(3, 0, 5)\n",
      "(3, 1, 8)\n",
      "(3, 2, 8)\n",
      "(3, 3, 8)\n",
      "(3, 4, 8)\n",
      "(3, 5, 8)\n",
      "(3, 6, 8)\n",
      "(3, 7, 8)\n",
      "(3, 8, 8)\n",
      "(3, 9, 5)\n",
      "(4, 0, 3)\n",
      "(4, 1, 5)\n",
      "(4, 2, 5)\n",
      "(4, 3, 5)\n",
      "(4, 4, 5)\n",
      "(4, 5, 5)\n",
      "(4, 6, 5)\n",
      "(4, 7, 5)\n",
      "(4, 8, 5)\n",
      "(4, 9, 3)\n"
     ]
    },
    {
     "data": {
      "image/png": "[encoded data removed]",
      "text/plain": [
       "<Figure size 640x480 with 1 Axes>"
      ]
     },
     "metadata": {},
     "output_type": "display_data"
    }
   ],
   "source": [
    "grid.update()\n",
    "show_grid(grid.grid)"
   ]
  },
  {
   "cell_type": "code",
   "execution_count": 116,
   "id": "feb14307-69ea-4166-8fed-0a74a1c9b531",
   "metadata": {},
   "outputs": [
    {
     "data": {
      "text/plain": [
       "array([0, 0, 0, 0, 0, 0, 1, 0])"
      ]
     },
     "execution_count": 116,
     "metadata": {},
     "output_type": "execute_result"
    }
   ],
   "source": [
    "gg = grid.get_im()\n",
    "t = np.transpose(get_neighbors((1,1), 10, 10))\n",
    "g[tuple(t[0,:]), tuple(t[1,:])]"
   ]
  },
  {
   "cell_type": "code",
   "execution_count": 88,
   "id": "e20f5d2d-29cb-4fe3-b215-a9c26e641805",
   "metadata": {},
   "outputs": [
    {
     "name": "stdout",
     "output_type": "stream",
     "text": [
      "[[0 0 0 0]\n",
      " [0 0 0 0]\n",
      " [0 0 0 0]]\n",
      "[[ 0  1  2  3]\n",
      " [ 4  5  6  7]\n",
      " [ 8  9 10 11]]\n"
     ]
    }
   ],
   "source": [
    "nrow = 3\n",
    "ncol = 4\n",
    "a = [[0 for j in range(ncol)] for i in range(nrow)]\n",
    "print(np.array(a))\n",
    "for i in range(nx*ny):\n",
    "    c = i//ny\n",
    "    r = i%ny\n",
    "    a[c][r] = i\n",
    "print(np.array(a))"
   ]
  },
  {
   "cell_type": "code",
   "execution_count": 97,
   "id": "5080499d-5ca2-46a4-b0e7-f43417e8ce22",
   "metadata": {},
   "outputs": [
    {
     "name": "stdout",
     "output_type": "stream",
     "text": [
      "[[ 0  1  2  3]\n",
      " [ 4  5  6  7]\n",
      " [ 8  9 10 11]]\n"
     ]
    }
   ],
   "source": [
    "a = []\n",
    "for i in range(nrow):\n",
    "    row = []\n",
    "    for j in range(ncol):\n",
    "        row.append(i*ncol+j)\n",
    "    a.append(row)\n",
    "print(np.array(a))"
   ]
  },
  {
   "cell_type": "code",
   "execution_count": 49,
   "id": "a63100cc-ac47-493a-8b54-8c20a094a4fe",
   "metadata": {},
   "outputs": [
    {
     "data": {
      "text/plain": [
       "numpy.int64"
      ]
     },
     "execution_count": 49,
     "metadata": {},
     "output_type": "execute_result"
    }
   ],
   "source": [
    "s1 = State.alive\n",
    "s2 = State.alive\n",
    "type(s1)\n",
    "a = np.array([s1, s2])\n",
    "type(a[0])"
   ]
  },
  {
   "cell_type": "code",
   "execution_count": 30,
   "id": "242a3569-f07d-4167-b1dc-e9a77d1b7267",
   "metadata": {},
   "outputs": [
    {
     "data": {
      "text/plain": [
       "'alive'"
      ]
     },
     "execution_count": 30,
     "metadata": {},
     "output_type": "execute_result"
    }
   ],
   "source": [
    "s.name"
   ]
  },
  {
   "cell_type": "code",
   "execution_count": null,
   "id": "d5abe79b-f4cc-4329-ab03-a0b73fcbb9d6",
   "metadata": {},
   "outputs": [],
   "source": []
  }
 ],
 "metadata": {
  "kernelspec": {
   "display_name": "Python 3 (ipykernel)",
   "language": "python",
   "name": "python3"
  },
  "language_info": {
   "codemirror_mode": {
    "name": "ipython",
    "version": 3
   },
   "file_extension": ".py",
   "mimetype": "text/x-python",
   "name": "python",
   "nbconvert_exporter": "python",
   "pygments_lexer": "ipython3",
   "version": "3.11.0"
  }
 },
 "nbformat": 4,
 "nbformat_minor": 5
}
